{
 "cells": [
  {
   "cell_type": "markdown",
   "id": "dressed-adolescent",
   "metadata": {},
   "source": [
    "# Class1 ANPA 2021"
   ]
  },
  {
   "cell_type": "raw",
   "id": "postal-person",
   "metadata": {},
   "source": [
    "Introduction to Data Types in Python\n",
    "1. String: Alphabets put inside quotation mark, e.g, \"Ram\",\"ram\"\n",
    "2. Integer\n",
    "3. Float: Real Numbers\n",
    "4. Categorical Data: ['Male','Female'], ['S','M','L']\n",
    "5. Datetime"
   ]
  },
  {
   "cell_type": "markdown",
   "id": "burning-settlement",
   "metadata": {},
   "source": [
    "## Methods to collect data"
   ]
  },
  {
   "cell_type": "markdown",
   "id": "measured-employee",
   "metadata": {},
   "source": [
    "### List"
   ]
  },
  {
   "cell_type": "code",
   "execution_count": 1,
   "id": "addressed-humidity",
   "metadata": {},
   "outputs": [
    {
     "name": "stdout",
     "output_type": "stream",
     "text": [
      "<class 'list'>\n"
     ]
    },
    {
     "data": {
      "text/plain": [
       "[1, 2, 3]"
      ]
     },
     "execution_count": 1,
     "metadata": {},
     "output_type": "execute_result"
    }
   ],
   "source": [
    "# Data kept inside square bracket= list\n",
    "\"\"\"\n",
    "What is this?\n",
    "This is comment.\n",
    "\n",
    "\"\"\"\n",
    "abc=[1,2,3] # Data kept inside square bracket= list\n",
    "print (type(abc))\n",
    "abc"
   ]
  },
  {
   "cell_type": "code",
   "execution_count": 2,
   "id": "hollow-remove",
   "metadata": {},
   "outputs": [
    {
     "data": {
      "text/plain": [
       "list"
      ]
     },
     "execution_count": 2,
     "metadata": {},
     "output_type": "execute_result"
    }
   ],
   "source": [
    "type(abc)"
   ]
  },
  {
   "cell_type": "code",
   "execution_count": 3,
   "id": "reported-psychiatry",
   "metadata": {},
   "outputs": [
    {
     "name": "stdout",
     "output_type": "stream",
     "text": [
      "1 5 5 4\n"
     ]
    }
   ],
   "source": [
    "L=[1,2,3,4,5]\n",
    "# Python does zero indexing\n",
    "print (L[0],L[4],L[-1],L[-2])"
   ]
  },
  {
   "cell_type": "code",
   "execution_count": 4,
   "id": "dirty-watson",
   "metadata": {},
   "outputs": [
    {
     "name": "stdout",
     "output_type": "stream",
     "text": [
      "[1, 2, 3, 4, 5]\n"
     ]
    }
   ],
   "source": [
    "print (L) "
   ]
  },
  {
   "cell_type": "code",
   "execution_count": 5,
   "id": "alpha-wisdom",
   "metadata": {},
   "outputs": [
    {
     "data": {
      "text/plain": [
       "[1, 2, 3, 4, 5, 10]"
      ]
     },
     "execution_count": 5,
     "metadata": {},
     "output_type": "execute_result"
    }
   ],
   "source": [
    "# Adding elements in a list\n",
    "L.append(10)\n",
    "L"
   ]
  },
  {
   "cell_type": "code",
   "execution_count": 6,
   "id": "compressed-specific",
   "metadata": {},
   "outputs": [
    {
     "data": {
      "text/plain": [
       "(25, 10, 1)"
      ]
     },
     "execution_count": 6,
     "metadata": {},
     "output_type": "execute_result"
    }
   ],
   "source": [
    "sum(L), max(L), min(L)"
   ]
  },
  {
   "cell_type": "code",
   "execution_count": 7,
   "id": "handled-invite",
   "metadata": {},
   "outputs": [],
   "source": [
    "# List can have any data type\n",
    "L1=[1,2.12,\"aa\"]"
   ]
  },
  {
   "cell_type": "code",
   "execution_count": 8,
   "id": "killing-writing",
   "metadata": {},
   "outputs": [],
   "source": [
    "L1=[1,2,3]\n",
    "L2=[2,3,4]"
   ]
  },
  {
   "cell_type": "code",
   "execution_count": 9,
   "id": "developmental-backup",
   "metadata": {},
   "outputs": [
    {
     "data": {
      "text/plain": [
       "[1, 2, 3, 2, 3, 4]"
      ]
     },
     "execution_count": 9,
     "metadata": {},
     "output_type": "execute_result"
    }
   ],
   "source": [
    "L1+L2"
   ]
  },
  {
   "cell_type": "code",
   "execution_count": 10,
   "id": "pending-ozone",
   "metadata": {},
   "outputs": [
    {
     "data": {
      "text/plain": [
       "{1, 2, 3, 4}"
      ]
     },
     "execution_count": 10,
     "metadata": {},
     "output_type": "execute_result"
    }
   ],
   "source": [
    "set(L1+L2)"
   ]
  },
  {
   "cell_type": "code",
   "execution_count": 11,
   "id": "diagnostic-transaction",
   "metadata": {},
   "outputs": [
    {
     "data": {
      "text/plain": [
       "[1, 2, 3, 4]"
      ]
     },
     "execution_count": 11,
     "metadata": {},
     "output_type": "execute_result"
    }
   ],
   "source": [
    "list(set(L1+L2)) "
   ]
  },
  {
   "cell_type": "code",
   "execution_count": 12,
   "id": "decimal-ghost",
   "metadata": {},
   "outputs": [
    {
     "name": "stdout",
     "output_type": "stream",
     "text": [
      "<class 'list'> <class 'list'>\n",
      "<class 'numpy.ndarray'> <class 'numpy.ndarray'>\n"
     ]
    }
   ],
   "source": [
    "# array\n",
    "import numpy as np\n",
    "print (type(L1),type(L2))\n",
    "L1=np.array(L1)\n",
    "L2=np.array(L2)\n",
    "print (type(L1),type(L2))"
   ]
  },
  {
   "cell_type": "code",
   "execution_count": 13,
   "id": "regulation-advice",
   "metadata": {},
   "outputs": [
    {
     "data": {
      "text/plain": [
       "array([3, 5, 7])"
      ]
     },
     "execution_count": 13,
     "metadata": {},
     "output_type": "execute_result"
    }
   ],
   "source": [
    "L1+L2"
   ]
  },
  {
   "cell_type": "markdown",
   "id": "vital-programming",
   "metadata": {},
   "source": [
    "### Dictionary"
   ]
  },
  {
   "cell_type": "code",
   "execution_count": 14,
   "id": "civil-charles",
   "metadata": {},
   "outputs": [
    {
     "data": {
      "text/plain": [
       "{'fruit': ['apple', 'banana'], 'veg': 'carrrot', 'rice': 2}"
      ]
     },
     "execution_count": 14,
     "metadata": {},
     "output_type": "execute_result"
    }
   ],
   "source": [
    "# Word: Meaning\n",
    "# key: value\n",
    "D={'fruit':['apple','banana'],\n",
    "  'veg':'carrrot',\n",
    "  'rice':2}\n",
    "D"
   ]
  },
  {
   "cell_type": "code",
   "execution_count": 15,
   "id": "smart-fancy",
   "metadata": {},
   "outputs": [
    {
     "data": {
      "text/plain": [
       "(dict_keys(['fruit', 'veg', 'rice']),\n",
       " dict_values([['apple', 'banana'], 'carrrot', 2]))"
      ]
     },
     "execution_count": 15,
     "metadata": {},
     "output_type": "execute_result"
    }
   ],
   "source": [
    "D.keys(),D.values()"
   ]
  },
  {
   "cell_type": "code",
   "execution_count": 16,
   "id": "unusual-password",
   "metadata": {},
   "outputs": [
    {
     "data": {
      "text/plain": [
       "['apple', 'banana']"
      ]
     },
     "execution_count": 16,
     "metadata": {},
     "output_type": "execute_result"
    }
   ],
   "source": [
    "D['fruit']"
   ]
  },
  {
   "cell_type": "code",
   "execution_count": 17,
   "id": "friendly-modern",
   "metadata": {},
   "outputs": [
    {
     "data": {
      "text/plain": [
       "{'fruit': ['apple', 'banana'], 'veg': 'carrrot', 'rice': 2, 'add': 'values'}"
      ]
     },
     "execution_count": 17,
     "metadata": {},
     "output_type": "execute_result"
    }
   ],
   "source": [
    "# Append is done using update command\n",
    "D.update({'add':\"values\"})\n",
    "D"
   ]
  },
  {
   "cell_type": "code",
   "execution_count": 18,
   "id": "closed-frank",
   "metadata": {},
   "outputs": [],
   "source": [
    "# Adding two dictionaries\n",
    "E= {'aa':'bb'}\n",
    "D.update(E)"
   ]
  },
  {
   "cell_type": "code",
   "execution_count": 19,
   "id": "hairy-storm",
   "metadata": {},
   "outputs": [
    {
     "data": {
      "text/plain": [
       "{'fruit': ['apple', 'banana'],\n",
       " 'veg': 'carrrot',\n",
       " 'rice': 2,\n",
       " 'add': 'values',\n",
       " 'aa': 'bb'}"
      ]
     },
     "execution_count": 19,
     "metadata": {},
     "output_type": "execute_result"
    }
   ],
   "source": [
    "D"
   ]
  },
  {
   "cell_type": "code",
   "execution_count": 20,
   "id": "governing-performer",
   "metadata": {},
   "outputs": [],
   "source": [
    "# Tuple\n",
    "g=(9.8,)"
   ]
  },
  {
   "cell_type": "markdown",
   "id": "mineral-carrier",
   "metadata": {},
   "source": [
    "## Loops"
   ]
  },
  {
   "cell_type": "code",
   "execution_count": 21,
   "id": "endless-paintball",
   "metadata": {},
   "outputs": [],
   "source": [
    "# for, if , while"
   ]
  },
  {
   "cell_type": "code",
   "execution_count": 22,
   "id": "third-medicare",
   "metadata": {},
   "outputs": [
    {
     "data": {
      "text/plain": [
       "[1, 2, 3, 4, 5, 10]"
      ]
     },
     "execution_count": 22,
     "metadata": {},
     "output_type": "execute_result"
    }
   ],
   "source": [
    "L"
   ]
  },
  {
   "cell_type": "code",
   "execution_count": 23,
   "id": "streaming-agenda",
   "metadata": {},
   "outputs": [
    {
     "data": {
      "text/plain": [
       "[1, 2, 3, 4, 5, 10, 1, 2, 3, 4, 5, 10, 1, 2, 3, 4, 5, 10]"
      ]
     },
     "execution_count": 23,
     "metadata": {},
     "output_type": "execute_result"
    }
   ],
   "source": [
    "L*3"
   ]
  },
  {
   "cell_type": "code",
   "execution_count": 24,
   "id": "hundred-structure",
   "metadata": {},
   "outputs": [
    {
     "name": "stdout",
     "output_type": "stream",
     "text": [
      "8\n",
      "11\n",
      "14\n",
      "17\n",
      "20\n",
      "35\n"
     ]
    }
   ],
   "source": [
    "# for loop\n",
    "for i in L:\n",
    "    print(i*3+5)\n"
   ]
  },
  {
   "cell_type": "code",
   "execution_count": 25,
   "id": "timely-singles",
   "metadata": {},
   "outputs": [
    {
     "name": "stdout",
     "output_type": "stream",
     "text": [
      "[8, 11, 14, 17, 20, 35]\n"
     ]
    }
   ],
   "source": [
    "M=[]\n",
    "for i in L:\n",
    "    M.append(i*3+5)\n",
    "\n",
    "print (M)\n"
   ]
  },
  {
   "cell_type": "code",
   "execution_count": 26,
   "id": "roman-cherry",
   "metadata": {},
   "outputs": [
    {
     "name": "stdout",
     "output_type": "stream",
     "text": [
      "i not equal to j\n",
      "i not equal to j\n",
      "i not equal to j\n",
      "i not equal to j\n",
      "i equals j\n",
      "i not equal to j\n",
      "i not equal to j\n",
      "i not equal to j\n"
     ]
    }
   ],
   "source": [
    "# Nested loop\n",
    "for i in range(2):\n",
    "    #print ('i=',i)\n",
    "    for j in range(1,5,1):\n",
    "        #print ('j=',j)\n",
    "        if i==j:\n",
    "            print (\"i equals j\")\n",
    "        else:\n",
    "            print (\"i not equal to j\")"
   ]
  },
  {
   "cell_type": "code",
   "execution_count": 27,
   "id": "played-coaching",
   "metadata": {},
   "outputs": [
    {
     "name": "stdout",
     "output_type": "stream",
     "text": [
      "0 0\n",
      "0 1\n",
      "0 2\n",
      "0 3\n",
      "0 4\n",
      "1 0\n",
      "1 1\n",
      "1 2\n",
      "1 3\n",
      "1 4\n",
      "2 0\n",
      "2 1\n",
      "2 2\n",
      "2 3\n",
      "2 4\n",
      "3 0\n",
      "3 1\n",
      "3 2\n",
      "3 3\n",
      "3 4\n",
      "4 0\n",
      "4 1\n",
      "4 2\n",
      "4 3\n",
      "4 4\n"
     ]
    }
   ],
   "source": [
    "for i in range(5):\n",
    "    for j in range(5):\n",
    "        print (i,j)"
   ]
  },
  {
   "cell_type": "code",
   "execution_count": 28,
   "id": "local-fairy",
   "metadata": {},
   "outputs": [
    {
     "name": "stdout",
     "output_type": "stream",
     "text": [
      "0 0\n",
      "1 1\n",
      "2 2\n",
      "3 3\n",
      "4 4\n"
     ]
    }
   ],
   "source": [
    "for i,j in zip(range(5),range(5)):\n",
    "    print (i,j)"
   ]
  },
  {
   "cell_type": "markdown",
   "id": "running-scene",
   "metadata": {},
   "source": [
    "## Plotting in Python"
   ]
  },
  {
   "cell_type": "code",
   "execution_count": 29,
   "id": "motivated-climate",
   "metadata": {},
   "outputs": [
    {
     "data": {
      "text/plain": [
       "(array([1, 2, 3]), array([2, 3, 4]))"
      ]
     },
     "execution_count": 29,
     "metadata": {},
     "output_type": "execute_result"
    }
   ],
   "source": [
    "L1,L2"
   ]
  },
  {
   "cell_type": "code",
   "execution_count": 30,
   "id": "adverse-shark",
   "metadata": {},
   "outputs": [],
   "source": [
    "import matplotlib.pyplot as plt"
   ]
  },
  {
   "cell_type": "code",
   "execution_count": 31,
   "id": "regulated-effort",
   "metadata": {},
   "outputs": [
    {
     "data": {
      "text/plain": [
       "(array([0.75, 1.  , 1.25, 1.5 , 1.75, 2.  , 2.25, 2.5 , 2.75, 3.  , 3.25]),\n",
       " [Text(0, 0, ''),\n",
       "  Text(0, 0, ''),\n",
       "  Text(0, 0, ''),\n",
       "  Text(0, 0, ''),\n",
       "  Text(0, 0, ''),\n",
       "  Text(0, 0, ''),\n",
       "  Text(0, 0, ''),\n",
       "  Text(0, 0, ''),\n",
       "  Text(0, 0, ''),\n",
       "  Text(0, 0, ''),\n",
       "  Text(0, 0, '')])"
      ]
     },
     "execution_count": 31,
     "metadata": {},
     "output_type": "execute_result"
    },
    {
     "data": {
      "image/png": "[encoded data removed]",
      "text/plain": [
       "<Figure size 432x288 with 1 Axes>"
      ]
     },
     "metadata": {
      "needs_background": "light"
     },
     "output_type": "display_data"
    }
   ],
   "source": [
    "plt.plot(L1,L2,'rv',linestyle='dashed',\n",
    "        linewidth=3,markersize=14)\n",
    "plt.title(\"ABC\",fontsize=20)\n",
    "plt.xlabel(\"L1\",fontsize=18)\n",
    "plt.ylabel(\"L2\")\n",
    "plt.xticks(fontsize=15)\n",
    "#plt.legend()"
   ]
  },
  {
   "cell_type": "code",
   "execution_count": 32,
   "id": "english-racing",
   "metadata": {},
   "outputs": [],
   "source": [
    "#https://matplotlib.org/"
   ]
  },
  {
   "cell_type": "markdown",
   "id": "small-secondary",
   "metadata": {},
   "source": [
    "### Creating Subplots"
   ]
  },
  {
   "cell_type": "code",
   "execution_count": 33,
   "id": "variable-habitat",
   "metadata": {},
   "outputs": [],
   "source": [
    "x=[1,2,3,4,5,6,7,8]\n",
    "y=[3,6,4,7,5,1,3,4]"
   ]
  },
  {
   "cell_type": "code",
   "execution_count": 34,
   "id": "coral-revision",
   "metadata": {},
   "outputs": [
    {
     "data": {
      "text/plain": [
       "True"
      ]
     },
     "execution_count": 34,
     "metadata": {},
     "output_type": "execute_result"
    }
   ],
   "source": [
    "len(x)==len(y)"
   ]
  },
  {
   "cell_type": "code",
   "execution_count": 50,
   "id": "average-trauma",
   "metadata": {},
   "outputs": [
    {
     "data": {
      "text/plain": [
       "[<matplotlib.patches.Polygon at 0x1c717b37748>]"
      ]
     },
     "execution_count": 50,
     "metadata": {},
     "output_type": "execute_result"
    },
    {
     "data": {
      "image/png": "[encoded data removed]",
      "text/plain": [
       "<Figure size 864x720 with 6 Axes>"
      ]
     },
     "metadata": {
      "needs_background": "light"
     },
     "output_type": "display_data"
    }
   ],
   "source": [
    "plt.figure(figsize=[12,10])\n",
    "# 3*2\n",
    "plt.suptitle(\"The big Title\")\n",
    "plt.subplot(3,2,1)\n",
    "plt.plot(x,y)\n",
    "plt.title(\"ABC\",fontsize=20)\n",
    "plt.subplot(3,2,2)\n",
    "plt.scatter(x,y)\n",
    "plt.subplot(3,2,3)\n",
    "plt.hist(y)\n",
    "plt.subplot(3,2,4)\n",
    "plt.bar(x,y)\n",
    "plt.subplot(3,2,5)\n",
    "plt.pie(y)\n",
    "plt.subplot(3,2,6)\n",
    "plt.fill(x,y)"
   ]
  },
  {
   "cell_type": "raw",
   "id": "coordinated-literature",
   "metadata": {},
   "source": [
    "HW1:\n",
    "L1=[1,2,3] and L2=[3,4,5]. Use for loop to add L1 and L2. [Hint: Use nested 'for' loop example we did in class].\n",
    "\n",
    "HW2:\n",
    "y=sin(x). Create a loop where x varies from 0 to 720 degree and\n",
    "store value of y into a list. [use 'range' to loop through. Make sure Sin(30)=0.5 :) )\n",
    "[use numpy]\n",
    "\n",
    "HW3:\n",
    "Use a for loop that takes this list [10,13,45,63,19,97,85] as input and outputs\n",
    "equivalent letter grade. \n",
    "\n",
    "HW4:\n",
    "    Create a for loop to go through these angles [10,15,20,25,30,35,40,45,50] to\n",
    "    (i) determine range of  a projectile fired from ground speed = 30m/s.\n",
    "    (ii) Save this as a list [angle,range] for all values of angles.\n",
    "    (iii) Determine maximum height reached. Save its as dictonary {angle:height}. \n",
    "    (iv) Create a plot of angle vs. Range and another plot of angle vs. max height reached.\n",
    "\n",
    "HW5:\n",
    "    Currency=[1,2,5,10,20,50]\n",
    "    #You need to return 14. Cashier = [10->1,2->2]\n",
    "    Create a for loop to return 127.\n",
    " \n",
    "HW6: x=[1,...10], y1=3x**2-log(x), y2=2**x-5x\n",
    "Create a dualaxis plot of this. \n",
    "\n",
    "HW7: Radioactive decay\n",
    "N(t) =N(0).exp(-lambda*t) for Uranium. plot 10 data points. \n",
    "    "
   ]
  },
  {
   "cell_type": "code",
   "execution_count": null,
   "id": "happy-insertion",
   "metadata": {},
   "outputs": [],
   "source": []
  }
 ],
 "metadata": {
  "kernelspec": {
   "display_name": "Python 3",
   "language": "python",
   "name": "python3"
  },
  "language_info": {
   "codemirror_mode": {
    "name": "ipython",
    "version": 3
   },
   "file_extension": ".py",
   "mimetype": "text/x-python",
   "name": "python",
   "nbconvert_exporter": "python",
   "pygments_lexer": "ipython3",
   "version": "3.7.6"
  }
 },
 "nbformat": 4,
 "nbformat_minor": 5
}
